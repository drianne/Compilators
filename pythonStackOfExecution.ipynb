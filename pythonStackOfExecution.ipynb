{
 "cells": [
  {
   "cell_type": "code",
   "execution_count": 22,
   "metadata": {
    "collapsed": true
   },
   "outputs": [],
   "source": [
    "import dis\n",
    "\n",
    "def f(x):\n",
    "    y = x\n",
    "    return y + 1"
   ]
  },
  {
   "cell_type": "code",
   "execution_count": 23,
   "metadata": {},
   "outputs": [
    {
     "name": "stdout",
     "output_type": "stream",
     "text": [
      "bytecode [124, 0, 125, 1, 124, 1, 100, 1, 23, 0, 83, 0]\n",
      "consts (None, 1)\n",
      "local names ('x', 'y')\n",
      "          0 LOAD_FAST                0 (0)\n",
      "          2 STORE_FAST               1 (1)\n",
      "          4 LOAD_FAST                1 (1)\n",
      "          6 LOAD_CONST               1 (1)\n",
      "          8 BINARY_ADD\n",
      "         10 RETURN_VALUE\n"
     ]
    }
   ],
   "source": [
    "code = f.__code__\n",
    "print('bytecode',list (code.co_code))\n",
    "print('consts', code.co_consts)\n",
    "print('local names', code.co_varnames)\n",
    "dis.dis(code.co_code)"
   ]
  }
 ],
 "metadata": {
  "kernelspec": {
   "display_name": "Python 3",
   "language": "python",
   "name": "python3"
  },
  "language_info": {
   "codemirror_mode": {
    "name": "ipython",
    "version": 3
   },
   "file_extension": ".py",
   "mimetype": "text/x-python",
   "name": "python",
   "nbconvert_exporter": "python",
   "pygments_lexer": "ipython3",
   "version": "3.6.1"
  }
 },
 "nbformat": 4,
 "nbformat_minor": 2
}
